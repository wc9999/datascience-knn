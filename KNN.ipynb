{
  "nbformat": 4,
  "nbformat_minor": 0,
  "metadata": {
    "colab": {
      "name": "KNN.ipynb",
      "provenance": [],
      "collapsed_sections": []
    },
    "kernelspec": {
      "name": "python3",
      "display_name": "Python 3"
    }
  },
  "cells": [
    {
      "cell_type": "code",
      "metadata": {
        "id": "RDDnKQQ5qB7q"
      },
      "source": [
        "import pandas as pd\n",
        "import numpy as np\n",
        "import matplotlib.pyplot as plt\n",
        "import seaborn as sns\n",
        "%matplotlib inline\n",
        "sns.set()"
      ],
      "execution_count": null,
      "outputs": []
    },
    {
      "cell_type": "code",
      "metadata": {
        "colab": {
          "base_uri": "https://localhost:8080/"
        },
        "id": "Gf-3Mnb3qV-2",
        "outputId": "57ee444d-babd-48cd-a675-b127268f2f00"
      },
      "source": [
        "from google.colab import drive\n",
        "drive.mount('/content/drive')"
      ],
      "execution_count": null,
      "outputs": [
        {
          "output_type": "stream",
          "text": [
            "Mounted at /content/drive\n"
          ],
          "name": "stdout"
        }
      ]
    },
    {
      "cell_type": "code",
      "metadata": {
        "id": "mbWB_SN0qYF4"
      },
      "source": [
        "df1 = pd.read_csv('/content/drive/MyDrive/riset/dsp_pcrfquota_20200622.csv',sep=\";\", quotechar='\"' )"
      ],
      "execution_count": null,
      "outputs": []
    },
    {
      "cell_type": "code",
      "metadata": {
        "id": "t2QtREDKqib7"
      },
      "source": [
        "df2 = pd.read_csv('/content/drive/MyDrive/riset/dsp_pcrfquota_20200629.csv',sep=\";\", quotechar='\"' )"
      ],
      "execution_count": null,
      "outputs": []
    },
    {
      "cell_type": "code",
      "metadata": {
        "id": "rtcSHHm3qj41"
      },
      "source": [
        "df3 = pd.read_csv('/content/drive/MyDrive/riset/dsp_pcrfquota_20200706.csv',sep=\";\", quotechar='\"' )"
      ],
      "execution_count": null,
      "outputs": []
    },
    {
      "cell_type": "code",
      "metadata": {
        "id": "4pMq7g2sqlHh"
      },
      "source": [
        "df4 = pd.read_csv('/content/drive/MyDrive/riset/dsp_pcrfquota_20200713.csv',sep=\";\", quotechar='\"' )"
      ],
      "execution_count": null,
      "outputs": []
    },
    {
      "cell_type": "code",
      "metadata": {
        "id": "2U--nOFjqmaS"
      },
      "source": [
        "df = pd.concat([df1, df2, df3, df4])"
      ],
      "execution_count": null,
      "outputs": []
    },
    {
      "cell_type": "code",
      "metadata": {
        "id": "vdmgnDEqqnkt",
        "colab": {
          "base_uri": "https://localhost:8080/"
        },
        "outputId": "9c531f23-60cd-4a59-ea19-e40a91de2e2e"
      },
      "source": [
        "print(\"The shape of the DataFrame is => {}\".format(df.shape))"
      ],
      "execution_count": null,
      "outputs": [
        {
          "output_type": "stream",
          "text": [
            "The shape of the DataFrame is => (4194292, 7)\n"
          ],
          "name": "stdout"
        }
      ]
    },
    {
      "cell_type": "code",
      "metadata": {
        "id": "VsUWhPftqpF4",
        "colab": {
          "base_uri": "https://localhost:8080/",
          "height": 194
        },
        "outputId": "60f1de88-1938-406b-fe0a-be43da2a84b5"
      },
      "source": [
        "df.head()"
      ],
      "execution_count": null,
      "outputs": [
        {
          "output_type": "execute_result",
          "data": {
            "text/html": [
              "<div>\n",
              "<style scoped>\n",
              "    .dataframe tbody tr th:only-of-type {\n",
              "        vertical-align: middle;\n",
              "    }\n",
              "\n",
              "    .dataframe tbody tr th {\n",
              "        vertical-align: top;\n",
              "    }\n",
              "\n",
              "    .dataframe thead th {\n",
              "        text-align: right;\n",
              "    }\n",
              "</style>\n",
              "<table border=\"1\" class=\"dataframe\">\n",
              "  <thead>\n",
              "    <tr style=\"text-align: right;\">\n",
              "      <th></th>\n",
              "      <th>msisdn</th>\n",
              "      <th>quotaname</th>\n",
              "      <th>quotavalue</th>\n",
              "      <th>quotainterval</th>\n",
              "      <th>balance</th>\n",
              "      <th>consumption</th>\n",
              "      <th>quotaintervaltype</th>\n",
              "    </tr>\n",
              "  </thead>\n",
              "  <tbody>\n",
              "    <tr>\n",
              "      <th>0</th>\n",
              "      <td>X28111001XXX</td>\n",
              "      <td>Q_PT_200</td>\n",
              "      <td>NaN</td>\n",
              "      <td>NaN</td>\n",
              "      <td>512000</td>\n",
              "      <td>0</td>\n",
              "      <td>NaN</td>\n",
              "    </tr>\n",
              "    <tr>\n",
              "      <th>1</th>\n",
              "      <td>X28111001XXX</td>\n",
              "      <td>Q_VB_Post_Movie1</td>\n",
              "      <td>26214400.0</td>\n",
              "      <td>20.0</td>\n",
              "      <td>25809408</td>\n",
              "      <td>404992</td>\n",
              "      <td>NaN</td>\n",
              "    </tr>\n",
              "    <tr>\n",
              "      <th>2</th>\n",
              "      <td>X28111001XXX</td>\n",
              "      <td>Q_VBDPI_Post_MyMovie1</td>\n",
              "      <td>26214400.0</td>\n",
              "      <td>20.0</td>\n",
              "      <td>26210688</td>\n",
              "      <td>3712</td>\n",
              "      <td>NaN</td>\n",
              "    </tr>\n",
              "    <tr>\n",
              "      <th>3</th>\n",
              "      <td>X28111001XXX</td>\n",
              "      <td>Q_MKT2_100</td>\n",
              "      <td>NaN</td>\n",
              "      <td>NaN</td>\n",
              "      <td>204800</td>\n",
              "      <td>0</td>\n",
              "      <td>NaN</td>\n",
              "    </tr>\n",
              "    <tr>\n",
              "      <th>4</th>\n",
              "      <td>6281110018XX</td>\n",
              "      <td>Q_MKT2_100</td>\n",
              "      <td>NaN</td>\n",
              "      <td>NaN</td>\n",
              "      <td>204800</td>\n",
              "      <td>0</td>\n",
              "      <td>NaN</td>\n",
              "    </tr>\n",
              "  </tbody>\n",
              "</table>\n",
              "</div>"
            ],
            "text/plain": [
              "         msisdn              quotaname  ...  consumption  quotaintervaltype\n",
              "0  X28111001XXX               Q_PT_200  ...            0                NaN\n",
              "1  X28111001XXX       Q_VB_Post_Movie1  ...       404992                NaN\n",
              "2  X28111001XXX  Q_VBDPI_Post_MyMovie1  ...         3712                NaN\n",
              "3  X28111001XXX             Q_MKT2_100  ...            0                NaN\n",
              "4  6281110018XX             Q_MKT2_100  ...            0                NaN\n",
              "\n",
              "[5 rows x 7 columns]"
            ]
          },
          "metadata": {
            "tags": []
          },
          "execution_count": 9
        }
      ]
    },
    {
      "cell_type": "code",
      "metadata": {
        "id": "0V5wDWYGqq7T"
      },
      "source": [
        "df.drop(['quotaintervaltype'], axis=1, inplace=True)"
      ],
      "execution_count": null,
      "outputs": []
    },
    {
      "cell_type": "code",
      "metadata": {
        "id": "jwZ-XPhqqscU"
      },
      "source": [
        "df = df.dropna()"
      ],
      "execution_count": null,
      "outputs": []
    },
    {
      "cell_type": "code",
      "metadata": {
        "id": "48FiWxiLqtmw",
        "colab": {
          "base_uri": "https://localhost:8080/",
          "height": 194
        },
        "outputId": "eb512cc6-b3ca-4027-d777-8098d37a8780"
      },
      "source": [
        "df.head()"
      ],
      "execution_count": null,
      "outputs": [
        {
          "output_type": "execute_result",
          "data": {
            "text/html": [
              "<div>\n",
              "<style scoped>\n",
              "    .dataframe tbody tr th:only-of-type {\n",
              "        vertical-align: middle;\n",
              "    }\n",
              "\n",
              "    .dataframe tbody tr th {\n",
              "        vertical-align: top;\n",
              "    }\n",
              "\n",
              "    .dataframe thead th {\n",
              "        text-align: right;\n",
              "    }\n",
              "</style>\n",
              "<table border=\"1\" class=\"dataframe\">\n",
              "  <thead>\n",
              "    <tr style=\"text-align: right;\">\n",
              "      <th></th>\n",
              "      <th>msisdn</th>\n",
              "      <th>quotaname</th>\n",
              "      <th>quotavalue</th>\n",
              "      <th>quotainterval</th>\n",
              "      <th>balance</th>\n",
              "      <th>consumption</th>\n",
              "    </tr>\n",
              "  </thead>\n",
              "  <tbody>\n",
              "    <tr>\n",
              "      <th>1</th>\n",
              "      <td>X28111001XXX</td>\n",
              "      <td>Q_VB_Post_Movie1</td>\n",
              "      <td>26214400.0</td>\n",
              "      <td>20.0</td>\n",
              "      <td>25809408</td>\n",
              "      <td>404992</td>\n",
              "    </tr>\n",
              "    <tr>\n",
              "      <th>2</th>\n",
              "      <td>X28111001XXX</td>\n",
              "      <td>Q_VBDPI_Post_MyMovie1</td>\n",
              "      <td>26214400.0</td>\n",
              "      <td>20.0</td>\n",
              "      <td>26210688</td>\n",
              "      <td>3712</td>\n",
              "    </tr>\n",
              "    <tr>\n",
              "      <th>5</th>\n",
              "      <td>6281110018XX</td>\n",
              "      <td>Q_VBDPI_Post_MyMovie1</td>\n",
              "      <td>10485760.0</td>\n",
              "      <td>20.0</td>\n",
              "      <td>10485760</td>\n",
              "      <td>0</td>\n",
              "    </tr>\n",
              "    <tr>\n",
              "      <th>7</th>\n",
              "      <td>6281110018XX</td>\n",
              "      <td>Q_VB4G_Post_Movie1</td>\n",
              "      <td>8388608.0</td>\n",
              "      <td>20.0</td>\n",
              "      <td>8388608</td>\n",
              "      <td>0</td>\n",
              "    </tr>\n",
              "    <tr>\n",
              "      <th>8</th>\n",
              "      <td>6281110018XX</td>\n",
              "      <td>Q_VB_Post_Movie1</td>\n",
              "      <td>2097152.0</td>\n",
              "      <td>20.0</td>\n",
              "      <td>2097152</td>\n",
              "      <td>0</td>\n",
              "    </tr>\n",
              "  </tbody>\n",
              "</table>\n",
              "</div>"
            ],
            "text/plain": [
              "         msisdn              quotaname  ...   balance  consumption\n",
              "1  X28111001XXX       Q_VB_Post_Movie1  ...  25809408       404992\n",
              "2  X28111001XXX  Q_VBDPI_Post_MyMovie1  ...  26210688         3712\n",
              "5  6281110018XX  Q_VBDPI_Post_MyMovie1  ...  10485760            0\n",
              "7  6281110018XX     Q_VB4G_Post_Movie1  ...   8388608            0\n",
              "8  6281110018XX       Q_VB_Post_Movie1  ...   2097152            0\n",
              "\n",
              "[5 rows x 6 columns]"
            ]
          },
          "metadata": {
            "tags": []
          },
          "execution_count": 12
        }
      ]
    },
    {
      "cell_type": "code",
      "metadata": {
        "id": "8iQJH5RQqvKo",
        "colab": {
          "base_uri": "https://localhost:8080/"
        },
        "outputId": "bc500ee3-70ad-42f5-fb86-b3e285bd76f8"
      },
      "source": [
        "df.info()"
      ],
      "execution_count": null,
      "outputs": [
        {
          "output_type": "stream",
          "text": [
            "<class 'pandas.core.frame.DataFrame'>\n",
            "Int64Index: 302341 entries, 1 to 1048564\n",
            "Data columns (total 6 columns):\n",
            " #   Column         Non-Null Count   Dtype  \n",
            "---  ------         --------------   -----  \n",
            " 0   msisdn         302341 non-null  object \n",
            " 1   quotaname      302341 non-null  object \n",
            " 2   quotavalue     302341 non-null  float64\n",
            " 3   quotainterval  302341 non-null  float64\n",
            " 4   balance        302341 non-null  int64  \n",
            " 5   consumption    302341 non-null  int64  \n",
            "dtypes: float64(2), int64(2), object(2)\n",
            "memory usage: 16.1+ MB\n"
          ],
          "name": "stdout"
        }
      ]
    },
    {
      "cell_type": "code",
      "metadata": {
        "id": "_nSwWRAmqwZ_",
        "colab": {
          "base_uri": "https://localhost:8080/"
        },
        "outputId": "d071a2a5-9ec6-45fb-96ab-2354a6f03254"
      },
      "source": [
        "print(\"Unique Values in `balance` => {}\".format(np.sort(df.quotavalue.unique())))"
      ],
      "execution_count": null,
      "outputs": [
        {
          "output_type": "stream",
          "text": [
            "Unique Values in `balance` => [1.00000000e+00 3.07200000e+03 1.02400000e+04 2.04800000e+04\n",
            " 2.56000000e+04 5.12000000e+04 1.02400000e+05 1.02470000e+05\n",
            " 1.53600000e+05 2.04800000e+05 2.56000000e+05 3.07200000e+05\n",
            " 5.12000000e+05 5.24289000e+05 6.14400000e+05 1.02400000e+06\n",
            " 1.04857600e+06 1.57286400e+06 1.67772200e+06 1.88743700e+06\n",
            " 2.08486400e+06 2.09715200e+06 2.09722200e+06 2.60915200e+06\n",
            " 2.62144000e+06 3.14572800e+06 3.67001600e+06 4.19430400e+06\n",
            " 5.24288000e+06 6.29145600e+06 8.38860800e+06 1.04857600e+07\n",
            " 1.25829120e+07 1.25829820e+07 1.46800640e+07 1.57286400e+07\n",
            " 1.67772160e+07 1.88743680e+07 2.09715200e+07 2.30686720e+07\n",
            " 2.51658240e+07 2.62144000e+07 3.14572800e+07 3.35544320e+07\n",
            " 3.67001600e+07 3.98458880e+07 4.19430400e+07 5.24288000e+07\n",
            " 6.29145600e+07 7.34003200e+07 7.86432000e+07 8.38860800e+07\n",
            " 8.91289600e+07 1.03809024e+08 1.04857600e+08 1.25829120e+08\n",
            " 1.67772160e+08]\n"
          ],
          "name": "stdout"
        }
      ]
    },
    {
      "cell_type": "code",
      "metadata": {
        "id": "8WG9pi8iqxfX"
      },
      "source": [
        "df['quotavalue'] = df['quotavalue'].astype('int64')\n",
        "df['quotainterval'] = df['quotainterval'].astype('int64')"
      ],
      "execution_count": null,
      "outputs": []
    },
    {
      "cell_type": "code",
      "metadata": {
        "id": "hSzMRSQWqzOY",
        "colab": {
          "base_uri": "https://localhost:8080/",
          "height": 282
        },
        "outputId": "247928b8-abb0-4368-ba63-aa6f7ca072e0"
      },
      "source": [
        "df.describe()"
      ],
      "execution_count": null,
      "outputs": [
        {
          "output_type": "execute_result",
          "data": {
            "text/html": [
              "<div>\n",
              "<style scoped>\n",
              "    .dataframe tbody tr th:only-of-type {\n",
              "        vertical-align: middle;\n",
              "    }\n",
              "\n",
              "    .dataframe tbody tr th {\n",
              "        vertical-align: top;\n",
              "    }\n",
              "\n",
              "    .dataframe thead th {\n",
              "        text-align: right;\n",
              "    }\n",
              "</style>\n",
              "<table border=\"1\" class=\"dataframe\">\n",
              "  <thead>\n",
              "    <tr style=\"text-align: right;\">\n",
              "      <th></th>\n",
              "      <th>quotavalue</th>\n",
              "      <th>quotainterval</th>\n",
              "      <th>balance</th>\n",
              "      <th>consumption</th>\n",
              "    </tr>\n",
              "  </thead>\n",
              "  <tbody>\n",
              "    <tr>\n",
              "      <th>count</th>\n",
              "      <td>3.023410e+05</td>\n",
              "      <td>302341.000000</td>\n",
              "      <td>3.023410e+05</td>\n",
              "      <td>3.023410e+05</td>\n",
              "    </tr>\n",
              "    <tr>\n",
              "      <th>mean</th>\n",
              "      <td>9.861835e+06</td>\n",
              "      <td>10.687611</td>\n",
              "      <td>8.200151e+06</td>\n",
              "      <td>1.617219e+06</td>\n",
              "    </tr>\n",
              "    <tr>\n",
              "      <th>std</th>\n",
              "      <td>1.070176e+07</td>\n",
              "      <td>7.181536</td>\n",
              "      <td>1.042170e+07</td>\n",
              "      <td>3.675822e+06</td>\n",
              "    </tr>\n",
              "    <tr>\n",
              "      <th>min</th>\n",
              "      <td>1.000000e+00</td>\n",
              "      <td>0.000000</td>\n",
              "      <td>0.000000e+00</td>\n",
              "      <td>0.000000e+00</td>\n",
              "    </tr>\n",
              "    <tr>\n",
              "      <th>25%</th>\n",
              "      <td>3.145728e+06</td>\n",
              "      <td>6.000000</td>\n",
              "      <td>1.676416e+06</td>\n",
              "      <td>0.000000e+00</td>\n",
              "    </tr>\n",
              "    <tr>\n",
              "      <th>50%</th>\n",
              "      <td>8.388608e+06</td>\n",
              "      <td>11.000000</td>\n",
              "      <td>4.242486e+06</td>\n",
              "      <td>4.838400e+04</td>\n",
              "    </tr>\n",
              "    <tr>\n",
              "      <th>75%</th>\n",
              "      <td>1.258291e+07</td>\n",
              "      <td>20.000000</td>\n",
              "      <td>1.048576e+07</td>\n",
              "      <td>1.353216e+06</td>\n",
              "    </tr>\n",
              "    <tr>\n",
              "      <th>max</th>\n",
              "      <td>1.677722e+08</td>\n",
              "      <td>90.000000</td>\n",
              "      <td>1.677702e+08</td>\n",
              "      <td>1.258294e+08</td>\n",
              "    </tr>\n",
              "  </tbody>\n",
              "</table>\n",
              "</div>"
            ],
            "text/plain": [
              "         quotavalue  quotainterval       balance   consumption\n",
              "count  3.023410e+05  302341.000000  3.023410e+05  3.023410e+05\n",
              "mean   9.861835e+06      10.687611  8.200151e+06  1.617219e+06\n",
              "std    1.070176e+07       7.181536  1.042170e+07  3.675822e+06\n",
              "min    1.000000e+00       0.000000  0.000000e+00  0.000000e+00\n",
              "25%    3.145728e+06       6.000000  1.676416e+06  0.000000e+00\n",
              "50%    8.388608e+06      11.000000  4.242486e+06  4.838400e+04\n",
              "75%    1.258291e+07      20.000000  1.048576e+07  1.353216e+06\n",
              "max    1.677722e+08      90.000000  1.677702e+08  1.258294e+08"
            ]
          },
          "metadata": {
            "tags": []
          },
          "execution_count": 16
        }
      ]
    },
    {
      "cell_type": "code",
      "metadata": {
        "id": "eTWOPcDhq1So",
        "colab": {
          "base_uri": "https://localhost:8080/",
          "height": 340
        },
        "outputId": "9d2ff022-6d54-4447-99a3-ab2741273a88"
      },
      "source": [
        "df['sum']=df['quotavalue']-df['consumption']\n",
        "# df['sum']=df['sum']<0 * -1\n",
        "# df['sum']=abs(df['sum'])\n",
        "\n",
        "df.sample(n=10)"
      ],
      "execution_count": null,
      "outputs": [
        {
          "output_type": "execute_result",
          "data": {
            "text/html": [
              "<div>\n",
              "<style scoped>\n",
              "    .dataframe tbody tr th:only-of-type {\n",
              "        vertical-align: middle;\n",
              "    }\n",
              "\n",
              "    .dataframe tbody tr th {\n",
              "        vertical-align: top;\n",
              "    }\n",
              "\n",
              "    .dataframe thead th {\n",
              "        text-align: right;\n",
              "    }\n",
              "</style>\n",
              "<table border=\"1\" class=\"dataframe\">\n",
              "  <thead>\n",
              "    <tr style=\"text-align: right;\">\n",
              "      <th></th>\n",
              "      <th>msisdn</th>\n",
              "      <th>quotaname</th>\n",
              "      <th>quotavalue</th>\n",
              "      <th>quotainterval</th>\n",
              "      <th>balance</th>\n",
              "      <th>consumption</th>\n",
              "      <th>sum</th>\n",
              "    </tr>\n",
              "  </thead>\n",
              "  <tbody>\n",
              "    <tr>\n",
              "      <th>864772</th>\n",
              "      <td>62X5210461XXX</td>\n",
              "      <td>Q_VB_Post_Movie1</td>\n",
              "      <td>10485760</td>\n",
              "      <td>11</td>\n",
              "      <td>10485760</td>\n",
              "      <td>0</td>\n",
              "      <td>10485760</td>\n",
              "    </tr>\n",
              "    <tr>\n",
              "      <th>917315</th>\n",
              "      <td>628X3X762X3XX</td>\n",
              "      <td>Q_VB_Post_ADD</td>\n",
              "      <td>1048576</td>\n",
              "      <td>11</td>\n",
              "      <td>0</td>\n",
              "      <td>1048577</td>\n",
              "      <td>-1</td>\n",
              "    </tr>\n",
              "    <tr>\n",
              "      <th>141535</th>\n",
              "      <td>62821221002XX</td>\n",
              "      <td>Q_VB_post_EKRC</td>\n",
              "      <td>20971520</td>\n",
              "      <td>20</td>\n",
              "      <td>0</td>\n",
              "      <td>20971558</td>\n",
              "      <td>-38</td>\n",
              "    </tr>\n",
              "    <tr>\n",
              "      <th>798951</th>\n",
              "      <td>X2X11X337XXX</td>\n",
              "      <td>Q_VB_Post_Movie1</td>\n",
              "      <td>2097152</td>\n",
              "      <td>20</td>\n",
              "      <td>2097152</td>\n",
              "      <td>0</td>\n",
              "      <td>2097152</td>\n",
              "    </tr>\n",
              "    <tr>\n",
              "      <th>241866</th>\n",
              "      <td>6281116X4XX</td>\n",
              "      <td>Q_VB4G_Post_Movie2</td>\n",
              "      <td>16777216</td>\n",
              "      <td>20</td>\n",
              "      <td>16777216</td>\n",
              "      <td>0</td>\n",
              "      <td>16777216</td>\n",
              "    </tr>\n",
              "    <tr>\n",
              "      <th>794229</th>\n",
              "      <td>62X11155X6XX</td>\n",
              "      <td>Q_VBDPI_Post_MyMovie1</td>\n",
              "      <td>16777216</td>\n",
              "      <td>20</td>\n",
              "      <td>15359872</td>\n",
              "      <td>1417344</td>\n",
              "      <td>15359872</td>\n",
              "    </tr>\n",
              "    <tr>\n",
              "      <th>380379</th>\n",
              "      <td>6X8X1145160XX</td>\n",
              "      <td>Q_VB_Post_Movie2</td>\n",
              "      <td>2097152</td>\n",
              "      <td>20</td>\n",
              "      <td>1588608</td>\n",
              "      <td>508544</td>\n",
              "      <td>1588608</td>\n",
              "    </tr>\n",
              "    <tr>\n",
              "      <th>715051</th>\n",
              "      <td>6X81110155XX</td>\n",
              "      <td>Q_VB_post_EKRC</td>\n",
              "      <td>10485760</td>\n",
              "      <td>1</td>\n",
              "      <td>0</td>\n",
              "      <td>10485779</td>\n",
              "      <td>-19</td>\n",
              "    </tr>\n",
              "    <tr>\n",
              "      <th>715290</th>\n",
              "      <td>X281111015XX</td>\n",
              "      <td>Q_VB4G_Post_Movie1</td>\n",
              "      <td>4194304</td>\n",
              "      <td>6</td>\n",
              "      <td>0</td>\n",
              "      <td>4194560</td>\n",
              "      <td>-256</td>\n",
              "    </tr>\n",
              "    <tr>\n",
              "      <th>716248</th>\n",
              "      <td>62811341XXXX</td>\n",
              "      <td>Q_VB4G_Post_Movie1</td>\n",
              "      <td>8388608</td>\n",
              "      <td>6</td>\n",
              "      <td>8388608</td>\n",
              "      <td>0</td>\n",
              "      <td>8388608</td>\n",
              "    </tr>\n",
              "  </tbody>\n",
              "</table>\n",
              "</div>"
            ],
            "text/plain": [
              "               msisdn              quotaname  ...  consumption       sum\n",
              "864772  62X5210461XXX       Q_VB_Post_Movie1  ...            0  10485760\n",
              "917315  628X3X762X3XX          Q_VB_Post_ADD  ...      1048577        -1\n",
              "141535  62821221002XX         Q_VB_post_EKRC  ...     20971558       -38\n",
              "798951   X2X11X337XXX       Q_VB_Post_Movie1  ...            0   2097152\n",
              "241866    6281116X4XX     Q_VB4G_Post_Movie2  ...            0  16777216\n",
              "794229   62X11155X6XX  Q_VBDPI_Post_MyMovie1  ...      1417344  15359872\n",
              "380379  6X8X1145160XX       Q_VB_Post_Movie2  ...       508544   1588608\n",
              "715051   6X81110155XX         Q_VB_post_EKRC  ...     10485779       -19\n",
              "715290   X281111015XX     Q_VB4G_Post_Movie1  ...      4194560      -256\n",
              "716248   62811341XXXX     Q_VB4G_Post_Movie1  ...            0   8388608\n",
              "\n",
              "[10 rows x 7 columns]"
            ]
          },
          "metadata": {
            "tags": []
          },
          "execution_count": 17
        }
      ]
    },
    {
      "cell_type": "code",
      "metadata": {
        "id": "q-F8_pPKq2ng",
        "colab": {
          "base_uri": "https://localhost:8080/",
          "height": 487
        },
        "outputId": "8585aeb6-531c-4c31-e03f-a0e9d81796d3"
      },
      "source": [
        "df['status']=df['balance']==df['sum']\n",
        "df.sample(n=15)"
      ],
      "execution_count": null,
      "outputs": [
        {
          "output_type": "execute_result",
          "data": {
            "text/html": [
              "<div>\n",
              "<style scoped>\n",
              "    .dataframe tbody tr th:only-of-type {\n",
              "        vertical-align: middle;\n",
              "    }\n",
              "\n",
              "    .dataframe tbody tr th {\n",
              "        vertical-align: top;\n",
              "    }\n",
              "\n",
              "    .dataframe thead th {\n",
              "        text-align: right;\n",
              "    }\n",
              "</style>\n",
              "<table border=\"1\" class=\"dataframe\">\n",
              "  <thead>\n",
              "    <tr style=\"text-align: right;\">\n",
              "      <th></th>\n",
              "      <th>msisdn</th>\n",
              "      <th>quotaname</th>\n",
              "      <th>quotavalue</th>\n",
              "      <th>quotainterval</th>\n",
              "      <th>balance</th>\n",
              "      <th>consumption</th>\n",
              "      <th>sum</th>\n",
              "      <th>status</th>\n",
              "    </tr>\n",
              "  </thead>\n",
              "  <tbody>\n",
              "    <tr>\n",
              "      <th>353946</th>\n",
              "      <td>6281X1018X9XX</td>\n",
              "      <td>Q_VBDPI_Post_MyMovie1</td>\n",
              "      <td>10485760</td>\n",
              "      <td>1</td>\n",
              "      <td>10436992</td>\n",
              "      <td>48768</td>\n",
              "      <td>10436992</td>\n",
              "      <td>True</td>\n",
              "    </tr>\n",
              "    <tr>\n",
              "      <th>273277</th>\n",
              "      <td>628X2XX75XXX</td>\n",
              "      <td>Q_VB4G_Post_FreeQuotaUtil</td>\n",
              "      <td>2097152</td>\n",
              "      <td>11</td>\n",
              "      <td>2074317</td>\n",
              "      <td>22835</td>\n",
              "      <td>2074317</td>\n",
              "      <td>True</td>\n",
              "    </tr>\n",
              "    <tr>\n",
              "      <th>873898</th>\n",
              "      <td>628111002XX</td>\n",
              "      <td>Q_VB4G_Post_Movie1</td>\n",
              "      <td>125829120</td>\n",
              "      <td>1</td>\n",
              "      <td>119276928</td>\n",
              "      <td>6552192</td>\n",
              "      <td>119276928</td>\n",
              "      <td>True</td>\n",
              "    </tr>\n",
              "    <tr>\n",
              "      <th>241791</th>\n",
              "      <td>X2X111X123XX</td>\n",
              "      <td>Q_VBDPI_Post_MyMovie1</td>\n",
              "      <td>10485760</td>\n",
              "      <td>6</td>\n",
              "      <td>9910656</td>\n",
              "      <td>575104</td>\n",
              "      <td>9910656</td>\n",
              "      <td>True</td>\n",
              "    </tr>\n",
              "    <tr>\n",
              "      <th>677934</th>\n",
              "      <td>6281X55X522XX</td>\n",
              "      <td>Q_VB_Post_Movie1</td>\n",
              "      <td>26214400</td>\n",
              "      <td>11</td>\n",
              "      <td>23188736</td>\n",
              "      <td>3025664</td>\n",
              "      <td>23188736</td>\n",
              "      <td>True</td>\n",
              "    </tr>\n",
              "    <tr>\n",
              "      <th>920210</th>\n",
              "      <td>6281X844697XX</td>\n",
              "      <td>Q_VB4G_Post_FreeQuotaUtil</td>\n",
              "      <td>10485760</td>\n",
              "      <td>11</td>\n",
              "      <td>1822647</td>\n",
              "      <td>8663113</td>\n",
              "      <td>1822647</td>\n",
              "      <td>True</td>\n",
              "    </tr>\n",
              "    <tr>\n",
              "      <th>556682</th>\n",
              "      <td>6281110002XX</td>\n",
              "      <td>Q_VBDPI_Post_MyMovie1</td>\n",
              "      <td>10485760</td>\n",
              "      <td>11</td>\n",
              "      <td>10420096</td>\n",
              "      <td>65664</td>\n",
              "      <td>10420096</td>\n",
              "      <td>True</td>\n",
              "    </tr>\n",
              "    <tr>\n",
              "      <th>796302</th>\n",
              "      <td>628XX82002XX</td>\n",
              "      <td>Q_VB_Post_Perp</td>\n",
              "      <td>5242880</td>\n",
              "      <td>20</td>\n",
              "      <td>0</td>\n",
              "      <td>5242885</td>\n",
              "      <td>-5</td>\n",
              "      <td>False</td>\n",
              "    </tr>\n",
              "    <tr>\n",
              "      <th>796412</th>\n",
              "      <td>62X1113517XX</td>\n",
              "      <td>Q_VB4G_Post_Movie1</td>\n",
              "      <td>8388608</td>\n",
              "      <td>1</td>\n",
              "      <td>5553792</td>\n",
              "      <td>2834816</td>\n",
              "      <td>5553792</td>\n",
              "      <td>True</td>\n",
              "    </tr>\n",
              "    <tr>\n",
              "      <th>350145</th>\n",
              "      <td>6X81X98X999XX</td>\n",
              "      <td>Q_VB_Post_Movie1</td>\n",
              "      <td>4194304</td>\n",
              "      <td>6</td>\n",
              "      <td>648064</td>\n",
              "      <td>3546240</td>\n",
              "      <td>648064</td>\n",
              "      <td>True</td>\n",
              "    </tr>\n",
              "    <tr>\n",
              "      <th>263074</th>\n",
              "      <td>62X12902060XX</td>\n",
              "      <td>Q_VB_Post_Movie1</td>\n",
              "      <td>2097152</td>\n",
              "      <td>1</td>\n",
              "      <td>2097152</td>\n",
              "      <td>0</td>\n",
              "      <td>2097152</td>\n",
              "      <td>True</td>\n",
              "    </tr>\n",
              "    <tr>\n",
              "      <th>208808</th>\n",
              "      <td>628X388XX83XX</td>\n",
              "      <td>888</td>\n",
              "      <td>1048576</td>\n",
              "      <td>1</td>\n",
              "      <td>1031315</td>\n",
              "      <td>17261</td>\n",
              "      <td>1031315</td>\n",
              "      <td>True</td>\n",
              "    </tr>\n",
              "    <tr>\n",
              "      <th>981281</th>\n",
              "      <td>X28X2884X74XX</td>\n",
              "      <td>Q_VBDPI_Post_MyMovie1</td>\n",
              "      <td>26214400</td>\n",
              "      <td>6</td>\n",
              "      <td>25560192</td>\n",
              "      <td>654208</td>\n",
              "      <td>25560192</td>\n",
              "      <td>True</td>\n",
              "    </tr>\n",
              "    <tr>\n",
              "      <th>159630</th>\n",
              "      <td>6281112X01XX</td>\n",
              "      <td>Q_VB4G_Post_Movie1</td>\n",
              "      <td>8388608</td>\n",
              "      <td>11</td>\n",
              "      <td>0</td>\n",
              "      <td>8389248</td>\n",
              "      <td>-640</td>\n",
              "      <td>False</td>\n",
              "    </tr>\n",
              "    <tr>\n",
              "      <th>82834</th>\n",
              "      <td>X281180004XX</td>\n",
              "      <td>Q_VB_Post_ADD</td>\n",
              "      <td>1048576</td>\n",
              "      <td>20</td>\n",
              "      <td>1039345</td>\n",
              "      <td>9231</td>\n",
              "      <td>1039345</td>\n",
              "      <td>True</td>\n",
              "    </tr>\n",
              "  </tbody>\n",
              "</table>\n",
              "</div>"
            ],
            "text/plain": [
              "               msisdn                  quotaname  ...        sum  status\n",
              "353946  6281X1018X9XX      Q_VBDPI_Post_MyMovie1  ...   10436992    True\n",
              "273277   628X2XX75XXX  Q_VB4G_Post_FreeQuotaUtil  ...    2074317    True\n",
              "873898    628111002XX         Q_VB4G_Post_Movie1  ...  119276928    True\n",
              "241791   X2X111X123XX      Q_VBDPI_Post_MyMovie1  ...    9910656    True\n",
              "677934  6281X55X522XX           Q_VB_Post_Movie1  ...   23188736    True\n",
              "920210  6281X844697XX  Q_VB4G_Post_FreeQuotaUtil  ...    1822647    True\n",
              "556682   6281110002XX      Q_VBDPI_Post_MyMovie1  ...   10420096    True\n",
              "796302   628XX82002XX             Q_VB_Post_Perp  ...         -5   False\n",
              "796412   62X1113517XX         Q_VB4G_Post_Movie1  ...    5553792    True\n",
              "350145  6X81X98X999XX           Q_VB_Post_Movie1  ...     648064    True\n",
              "263074  62X12902060XX           Q_VB_Post_Movie1  ...    2097152    True\n",
              "208808  628X388XX83XX                        888  ...    1031315    True\n",
              "981281  X28X2884X74XX      Q_VBDPI_Post_MyMovie1  ...   25560192    True\n",
              "159630   6281112X01XX         Q_VB4G_Post_Movie1  ...       -640   False\n",
              "82834    X281180004XX              Q_VB_Post_ADD  ...    1039345    True\n",
              "\n",
              "[15 rows x 8 columns]"
            ]
          },
          "metadata": {
            "tags": []
          },
          "execution_count": 18
        }
      ]
    },
    {
      "cell_type": "code",
      "metadata": {
        "id": "-9iT7E5Fq3tz",
        "colab": {
          "base_uri": "https://localhost:8080/",
          "height": 194
        },
        "outputId": "0450b178-bcd2-4ee3-f913-fffb4a950c73"
      },
      "source": [
        "df['status'] = df['status'].replace({True: 'Normal', False: 'Fraud'})\n",
        "df.tail()"
      ],
      "execution_count": null,
      "outputs": [
        {
          "output_type": "execute_result",
          "data": {
            "text/html": [
              "<div>\n",
              "<style scoped>\n",
              "    .dataframe tbody tr th:only-of-type {\n",
              "        vertical-align: middle;\n",
              "    }\n",
              "\n",
              "    .dataframe tbody tr th {\n",
              "        vertical-align: top;\n",
              "    }\n",
              "\n",
              "    .dataframe thead th {\n",
              "        text-align: right;\n",
              "    }\n",
              "</style>\n",
              "<table border=\"1\" class=\"dataframe\">\n",
              "  <thead>\n",
              "    <tr style=\"text-align: right;\">\n",
              "      <th></th>\n",
              "      <th>msisdn</th>\n",
              "      <th>quotaname</th>\n",
              "      <th>quotavalue</th>\n",
              "      <th>quotainterval</th>\n",
              "      <th>balance</th>\n",
              "      <th>consumption</th>\n",
              "      <th>sum</th>\n",
              "      <th>status</th>\n",
              "    </tr>\n",
              "  </thead>\n",
              "  <tbody>\n",
              "    <tr>\n",
              "      <th>1048553</th>\n",
              "      <td>6X81XX9544XX</td>\n",
              "      <td>Q_VB_Post_Movie2</td>\n",
              "      <td>4194304</td>\n",
              "      <td>11</td>\n",
              "      <td>4194304</td>\n",
              "      <td>0</td>\n",
              "      <td>4194304</td>\n",
              "      <td>Normal</td>\n",
              "    </tr>\n",
              "    <tr>\n",
              "      <th>1048554</th>\n",
              "      <td>6X81XX9544XX</td>\n",
              "      <td>Q_VB4G_Post_Movie2</td>\n",
              "      <td>12582912</td>\n",
              "      <td>11</td>\n",
              "      <td>12582912</td>\n",
              "      <td>0</td>\n",
              "      <td>12582912</td>\n",
              "      <td>Normal</td>\n",
              "    </tr>\n",
              "    <tr>\n",
              "      <th>1048560</th>\n",
              "      <td>62812296XXXX</td>\n",
              "      <td>Q_VB_Post_Movie1</td>\n",
              "      <td>4194304</td>\n",
              "      <td>6</td>\n",
              "      <td>4194304</td>\n",
              "      <td>0</td>\n",
              "      <td>4194304</td>\n",
              "      <td>Normal</td>\n",
              "    </tr>\n",
              "    <tr>\n",
              "      <th>1048562</th>\n",
              "      <td>62812296XXXX</td>\n",
              "      <td>Q_VBDPI_Post_MyMovie1</td>\n",
              "      <td>16777216</td>\n",
              "      <td>6</td>\n",
              "      <td>16646912</td>\n",
              "      <td>130304</td>\n",
              "      <td>16646912</td>\n",
              "      <td>Normal</td>\n",
              "    </tr>\n",
              "    <tr>\n",
              "      <th>1048564</th>\n",
              "      <td>62812296XXXX</td>\n",
              "      <td>Q_VB4G_Post_Movie1</td>\n",
              "      <td>12582912</td>\n",
              "      <td>6</td>\n",
              "      <td>9506304</td>\n",
              "      <td>3076608</td>\n",
              "      <td>9506304</td>\n",
              "      <td>Normal</td>\n",
              "    </tr>\n",
              "  </tbody>\n",
              "</table>\n",
              "</div>"
            ],
            "text/plain": [
              "               msisdn              quotaname  ...       sum  status\n",
              "1048553  6X81XX9544XX       Q_VB_Post_Movie2  ...   4194304  Normal\n",
              "1048554  6X81XX9544XX     Q_VB4G_Post_Movie2  ...  12582912  Normal\n",
              "1048560  62812296XXXX       Q_VB_Post_Movie1  ...   4194304  Normal\n",
              "1048562  62812296XXXX  Q_VBDPI_Post_MyMovie1  ...  16646912  Normal\n",
              "1048564  62812296XXXX     Q_VB4G_Post_Movie1  ...   9506304  Normal\n",
              "\n",
              "[5 rows x 8 columns]"
            ]
          },
          "metadata": {
            "tags": []
          },
          "execution_count": 19
        }
      ]
    },
    {
      "cell_type": "markdown",
      "metadata": {
        "id": "2teXZi4yq9GK"
      },
      "source": [
        "EDA"
      ]
    },
    {
      "cell_type": "code",
      "metadata": {
        "id": "dIuh47FUq49P",
        "colab": {
          "base_uri": "https://localhost:8080/",
          "height": 921
        },
        "outputId": "13c11222-52de-4dfa-b452-971117e6dcbe"
      },
      "source": [
        "sns.pairplot(df, hue='status')"
      ],
      "execution_count": null,
      "outputs": [
        {
          "output_type": "execute_result",
          "data": {
            "text/plain": [
              "<seaborn.axisgrid.PairGrid at 0x7ffb5dfe8e10>"
            ]
          },
          "metadata": {
            "tags": []
          },
          "execution_count": 20
        },
        {
          "output_type": "display_data",
          "data": {
            "image/png": "[encoded data removed]",
            "text/plain": [
              "<Figure size 979.6x900 with 30 Axes>"
            ]
          },
          "metadata": {
            "tags": [],
            "needs_background": "light"
          }
        }
      ]
    },
    {
      "cell_type": "code",
      "metadata": {
        "id": "D1C6Y0vOwpwK"
      },
      "source": [
        "def converter(cluster):\n",
        "    if cluster=='Fraud':\n",
        "        return 1\n",
        "    else:\n",
        "        return 0"
      ],
      "execution_count": null,
      "outputs": []
    },
    {
      "cell_type": "code",
      "metadata": {
        "id": "15cN1M_FyZS5"
      },
      "source": [
        "df['Cluster'] = df['status'].apply(converter)"
      ],
      "execution_count": null,
      "outputs": []
    },
    {
      "cell_type": "code",
      "metadata": {
        "id": "BzfYt0voydss",
        "colab": {
          "base_uri": "https://localhost:8080/",
          "height": 340
        },
        "outputId": "36c00593-3c64-424d-f27a-c5aae03627e5"
      },
      "source": [
        "df.sample(n=10)"
      ],
      "execution_count": null,
      "outputs": [
        {
          "output_type": "execute_result",
          "data": {
            "text/html": [
              "<div>\n",
              "<style scoped>\n",
              "    .dataframe tbody tr th:only-of-type {\n",
              "        vertical-align: middle;\n",
              "    }\n",
              "\n",
              "    .dataframe tbody tr th {\n",
              "        vertical-align: top;\n",
              "    }\n",
              "\n",
              "    .dataframe thead th {\n",
              "        text-align: right;\n",
              "    }\n",
              "</style>\n",
              "<table border=\"1\" class=\"dataframe\">\n",
              "  <thead>\n",
              "    <tr style=\"text-align: right;\">\n",
              "      <th></th>\n",
              "      <th>msisdn</th>\n",
              "      <th>quotaname</th>\n",
              "      <th>quotavalue</th>\n",
              "      <th>quotainterval</th>\n",
              "      <th>balance</th>\n",
              "      <th>consumption</th>\n",
              "      <th>sum</th>\n",
              "      <th>status</th>\n",
              "      <th>Cluster</th>\n",
              "    </tr>\n",
              "  </thead>\n",
              "  <tbody>\n",
              "    <tr>\n",
              "      <th>515247</th>\n",
              "      <td>62X13145X72XX</td>\n",
              "      <td>Q_VB4G_Post_Movie1</td>\n",
              "      <td>8388608</td>\n",
              "      <td>11</td>\n",
              "      <td>1980288</td>\n",
              "      <td>6408320</td>\n",
              "      <td>1980288</td>\n",
              "      <td>Normal</td>\n",
              "      <td>0</td>\n",
              "    </tr>\n",
              "    <tr>\n",
              "      <th>875329</th>\n",
              "      <td>62811808X5XX</td>\n",
              "      <td>Q_VB_Post_Perp</td>\n",
              "      <td>10485760</td>\n",
              "      <td>1</td>\n",
              "      <td>8792002</td>\n",
              "      <td>1693758</td>\n",
              "      <td>8792002</td>\n",
              "      <td>Normal</td>\n",
              "      <td>0</td>\n",
              "    </tr>\n",
              "    <tr>\n",
              "      <th>952877</th>\n",
              "      <td>6X81113508XXX</td>\n",
              "      <td>888</td>\n",
              "      <td>2084864</td>\n",
              "      <td>20</td>\n",
              "      <td>2080099</td>\n",
              "      <td>4765</td>\n",
              "      <td>2080099</td>\n",
              "      <td>Normal</td>\n",
              "      <td>0</td>\n",
              "    </tr>\n",
              "    <tr>\n",
              "      <th>41116</th>\n",
              "      <td>X28131992X5XX</td>\n",
              "      <td>Q_VB_Post_Movie1</td>\n",
              "      <td>2097152</td>\n",
              "      <td>20</td>\n",
              "      <td>2097152</td>\n",
              "      <td>0</td>\n",
              "      <td>2097152</td>\n",
              "      <td>Normal</td>\n",
              "      <td>0</td>\n",
              "    </tr>\n",
              "    <tr>\n",
              "      <th>936086</th>\n",
              "      <td>628211X825XXX</td>\n",
              "      <td>Q_VB4G_Post_FreeQuotaUtil</td>\n",
              "      <td>2097152</td>\n",
              "      <td>11</td>\n",
              "      <td>147212</td>\n",
              "      <td>1949940</td>\n",
              "      <td>147212</td>\n",
              "      <td>Normal</td>\n",
              "      <td>0</td>\n",
              "    </tr>\n",
              "    <tr>\n",
              "      <th>984310</th>\n",
              "      <td>6281299XXXXXX</td>\n",
              "      <td>Q_VBDPI_Post_MyMovie1</td>\n",
              "      <td>15728640</td>\n",
              "      <td>11</td>\n",
              "      <td>15358080</td>\n",
              "      <td>370560</td>\n",
              "      <td>15358080</td>\n",
              "      <td>Normal</td>\n",
              "      <td>0</td>\n",
              "    </tr>\n",
              "    <tr>\n",
              "      <th>982693</th>\n",
              "      <td>6X8XX900900XX</td>\n",
              "      <td>Q_Pos_Flash_Volume_225rb</td>\n",
              "      <td>8388608</td>\n",
              "      <td>11</td>\n",
              "      <td>6005364</td>\n",
              "      <td>2383244</td>\n",
              "      <td>6005364</td>\n",
              "      <td>Normal</td>\n",
              "      <td>0</td>\n",
              "    </tr>\n",
              "    <tr>\n",
              "      <th>507700</th>\n",
              "      <td>6X81XX40603XX</td>\n",
              "      <td>Q_VBDPI_Post_MyMovie1</td>\n",
              "      <td>16777216</td>\n",
              "      <td>20</td>\n",
              "      <td>16291200</td>\n",
              "      <td>486016</td>\n",
              "      <td>16291200</td>\n",
              "      <td>Normal</td>\n",
              "      <td>0</td>\n",
              "    </tr>\n",
              "    <tr>\n",
              "      <th>323998</th>\n",
              "      <td>6281199104XX</td>\n",
              "      <td>Q_VB4G_Post_Movie1</td>\n",
              "      <td>8388608</td>\n",
              "      <td>11</td>\n",
              "      <td>8225408</td>\n",
              "      <td>163200</td>\n",
              "      <td>8225408</td>\n",
              "      <td>Normal</td>\n",
              "      <td>0</td>\n",
              "    </tr>\n",
              "    <tr>\n",
              "      <th>585460</th>\n",
              "      <td>X2812X238XXX</td>\n",
              "      <td>Q_Pos_iFree3MB</td>\n",
              "      <td>3072</td>\n",
              "      <td>6</td>\n",
              "      <td>3072</td>\n",
              "      <td>0</td>\n",
              "      <td>3072</td>\n",
              "      <td>Normal</td>\n",
              "      <td>0</td>\n",
              "    </tr>\n",
              "  </tbody>\n",
              "</table>\n",
              "</div>"
            ],
            "text/plain": [
              "               msisdn                  quotaname  ...  status  Cluster\n",
              "515247  62X13145X72XX         Q_VB4G_Post_Movie1  ...  Normal        0\n",
              "875329   62811808X5XX             Q_VB_Post_Perp  ...  Normal        0\n",
              "952877  6X81113508XXX                        888  ...  Normal        0\n",
              "41116   X28131992X5XX           Q_VB_Post_Movie1  ...  Normal        0\n",
              "936086  628211X825XXX  Q_VB4G_Post_FreeQuotaUtil  ...  Normal        0\n",
              "984310  6281299XXXXXX      Q_VBDPI_Post_MyMovie1  ...  Normal        0\n",
              "982693  6X8XX900900XX   Q_Pos_Flash_Volume_225rb  ...  Normal        0\n",
              "507700  6X81XX40603XX      Q_VBDPI_Post_MyMovie1  ...  Normal        0\n",
              "323998   6281199104XX         Q_VB4G_Post_Movie1  ...  Normal        0\n",
              "585460   X2812X238XXX             Q_Pos_iFree3MB  ...  Normal        0\n",
              "\n",
              "[10 rows x 9 columns]"
            ]
          },
          "metadata": {
            "tags": []
          },
          "execution_count": 23
        }
      ]
    },
    {
      "cell_type": "code",
      "metadata": {
        "id": "scrhBJeDygNb"
      },
      "source": [
        "df.drop(['status'], axis=1, inplace=True)"
      ],
      "execution_count": null,
      "outputs": []
    },
    {
      "cell_type": "code",
      "metadata": {
        "id": "Nh-IZxZqt3oy",
        "colab": {
          "base_uri": "https://localhost:8080/",
          "height": 194
        },
        "outputId": "48609df2-19aa-40d7-b792-db7cab8f9291"
      },
      "source": [
        "df.sample(n=5)"
      ],
      "execution_count": null,
      "outputs": [
        {
          "output_type": "execute_result",
          "data": {
            "text/html": [
              "<div>\n",
              "<style scoped>\n",
              "    .dataframe tbody tr th:only-of-type {\n",
              "        vertical-align: middle;\n",
              "    }\n",
              "\n",
              "    .dataframe tbody tr th {\n",
              "        vertical-align: top;\n",
              "    }\n",
              "\n",
              "    .dataframe thead th {\n",
              "        text-align: right;\n",
              "    }\n",
              "</style>\n",
              "<table border=\"1\" class=\"dataframe\">\n",
              "  <thead>\n",
              "    <tr style=\"text-align: right;\">\n",
              "      <th></th>\n",
              "      <th>msisdn</th>\n",
              "      <th>quotaname</th>\n",
              "      <th>quotavalue</th>\n",
              "      <th>quotainterval</th>\n",
              "      <th>balance</th>\n",
              "      <th>consumption</th>\n",
              "      <th>sum</th>\n",
              "      <th>Cluster</th>\n",
              "    </tr>\n",
              "  </thead>\n",
              "  <tbody>\n",
              "    <tr>\n",
              "      <th>511905</th>\n",
              "      <td>X2813122382XX</td>\n",
              "      <td>Q_VB_Post_Movie1</td>\n",
              "      <td>4194304</td>\n",
              "      <td>6</td>\n",
              "      <td>0</td>\n",
              "      <td>4194560</td>\n",
              "      <td>-256</td>\n",
              "      <td>1</td>\n",
              "    </tr>\n",
              "    <tr>\n",
              "      <th>181484</th>\n",
              "      <td>6281287401XXX</td>\n",
              "      <td>Q_VB4G_Post_Movie1</td>\n",
              "      <td>12582912</td>\n",
              "      <td>20</td>\n",
              "      <td>12535680</td>\n",
              "      <td>47232</td>\n",
              "      <td>12535680</td>\n",
              "      <td>0</td>\n",
              "    </tr>\n",
              "    <tr>\n",
              "      <th>879165</th>\n",
              "      <td>628XX8850XX</td>\n",
              "      <td>Q_VBDPI_Post_MyMovie1</td>\n",
              "      <td>36700160</td>\n",
              "      <td>6</td>\n",
              "      <td>36697216</td>\n",
              "      <td>2944</td>\n",
              "      <td>36697216</td>\n",
              "      <td>0</td>\n",
              "    </tr>\n",
              "    <tr>\n",
              "      <th>270688</th>\n",
              "      <td>6X81XX6633XX</td>\n",
              "      <td>Q_VB_Post_Movie1</td>\n",
              "      <td>4194304</td>\n",
              "      <td>20</td>\n",
              "      <td>4194304</td>\n",
              "      <td>0</td>\n",
              "      <td>4194304</td>\n",
              "      <td>0</td>\n",
              "    </tr>\n",
              "    <tr>\n",
              "      <th>331251</th>\n",
              "      <td>6X81X190817XX</td>\n",
              "      <td>Q_VB4G_Post_Movie1</td>\n",
              "      <td>4194304</td>\n",
              "      <td>1</td>\n",
              "      <td>3704832</td>\n",
              "      <td>489472</td>\n",
              "      <td>3704832</td>\n",
              "      <td>0</td>\n",
              "    </tr>\n",
              "  </tbody>\n",
              "</table>\n",
              "</div>"
            ],
            "text/plain": [
              "               msisdn              quotaname  ...       sum  Cluster\n",
              "511905  X2813122382XX       Q_VB_Post_Movie1  ...      -256        1\n",
              "181484  6281287401XXX     Q_VB4G_Post_Movie1  ...  12535680        0\n",
              "879165    628XX8850XX  Q_VBDPI_Post_MyMovie1  ...  36697216        0\n",
              "270688   6X81XX6633XX       Q_VB_Post_Movie1  ...   4194304        0\n",
              "331251  6X81X190817XX     Q_VB4G_Post_Movie1  ...   3704832        0\n",
              "\n",
              "[5 rows x 8 columns]"
            ]
          },
          "metadata": {
            "tags": []
          },
          "execution_count": 25
        }
      ]
    },
    {
      "cell_type": "code",
      "metadata": {
        "id": "dMK--Hf6vrnR"
      },
      "source": [
        "df.drop(['sum'], axis=1, inplace=True)"
      ],
      "execution_count": null,
      "outputs": []
    },
    {
      "cell_type": "code",
      "metadata": {
        "id": "mwKbIacevykJ",
        "colab": {
          "base_uri": "https://localhost:8080/",
          "height": 340
        },
        "outputId": "dc9a20b6-d426-42d0-da0d-c4e7108c8f25"
      },
      "source": [
        "df.sample(n=10)"
      ],
      "execution_count": null,
      "outputs": [
        {
          "output_type": "execute_result",
          "data": {
            "text/html": [
              "<div>\n",
              "<style scoped>\n",
              "    .dataframe tbody tr th:only-of-type {\n",
              "        vertical-align: middle;\n",
              "    }\n",
              "\n",
              "    .dataframe tbody tr th {\n",
              "        vertical-align: top;\n",
              "    }\n",
              "\n",
              "    .dataframe thead th {\n",
              "        text-align: right;\n",
              "    }\n",
              "</style>\n",
              "<table border=\"1\" class=\"dataframe\">\n",
              "  <thead>\n",
              "    <tr style=\"text-align: right;\">\n",
              "      <th></th>\n",
              "      <th>msisdn</th>\n",
              "      <th>quotaname</th>\n",
              "      <th>quotavalue</th>\n",
              "      <th>quotainterval</th>\n",
              "      <th>balance</th>\n",
              "      <th>consumption</th>\n",
              "      <th>Cluster</th>\n",
              "    </tr>\n",
              "  </thead>\n",
              "  <tbody>\n",
              "    <tr>\n",
              "      <th>163536</th>\n",
              "      <td>6X81180XX1XX</td>\n",
              "      <td>Q_VBDPI_Post_MyMovie1</td>\n",
              "      <td>36700160</td>\n",
              "      <td>6</td>\n",
              "      <td>36382848</td>\n",
              "      <td>317312</td>\n",
              "      <td>0</td>\n",
              "    </tr>\n",
              "    <tr>\n",
              "      <th>1037208</th>\n",
              "      <td>62X114423XX</td>\n",
              "      <td>Q_VBDPI_Post_MyMovie1</td>\n",
              "      <td>52428800</td>\n",
              "      <td>1</td>\n",
              "      <td>52402560</td>\n",
              "      <td>26240</td>\n",
              "      <td>0</td>\n",
              "    </tr>\n",
              "    <tr>\n",
              "      <th>172259</th>\n",
              "      <td>628121XX8X2XX</td>\n",
              "      <td>Q_VBDPI_Post_MyMovie1</td>\n",
              "      <td>5242880</td>\n",
              "      <td>11</td>\n",
              "      <td>5227648</td>\n",
              "      <td>15232</td>\n",
              "      <td>0</td>\n",
              "    </tr>\n",
              "    <tr>\n",
              "      <th>1039917</th>\n",
              "      <td>X28111X3XXX</td>\n",
              "      <td>Q_VBDPI_Post_MyMovie1</td>\n",
              "      <td>73400320</td>\n",
              "      <td>1</td>\n",
              "      <td>73100672</td>\n",
              "      <td>299648</td>\n",
              "      <td>0</td>\n",
              "    </tr>\n",
              "    <tr>\n",
              "      <th>1039781</th>\n",
              "      <td>X2811978128XX</td>\n",
              "      <td>888</td>\n",
              "      <td>12582912</td>\n",
              "      <td>1</td>\n",
              "      <td>3002291</td>\n",
              "      <td>9580621</td>\n",
              "      <td>0</td>\n",
              "    </tr>\n",
              "    <tr>\n",
              "      <th>881194</th>\n",
              "      <td>62X111X9X9XX</td>\n",
              "      <td>Q_VBDPI_Post_MyMovie1</td>\n",
              "      <td>16777216</td>\n",
              "      <td>20</td>\n",
              "      <td>16766080</td>\n",
              "      <td>11136</td>\n",
              "      <td>0</td>\n",
              "    </tr>\n",
              "    <tr>\n",
              "      <th>75023</th>\n",
              "      <td>628521581X3XX</td>\n",
              "      <td>Q_VB_Post_Movie1</td>\n",
              "      <td>2097152</td>\n",
              "      <td>11</td>\n",
              "      <td>2097152</td>\n",
              "      <td>0</td>\n",
              "      <td>0</td>\n",
              "    </tr>\n",
              "    <tr>\n",
              "      <th>480540</th>\n",
              "      <td>6X8111X848XX</td>\n",
              "      <td>Q_VB_Post_Movie1</td>\n",
              "      <td>5242880</td>\n",
              "      <td>11</td>\n",
              "      <td>5242880</td>\n",
              "      <td>0</td>\n",
              "      <td>0</td>\n",
              "    </tr>\n",
              "    <tr>\n",
              "      <th>877466</th>\n",
              "      <td>628112727XX</td>\n",
              "      <td>Q_VB4G_Post_Movie1</td>\n",
              "      <td>8388608</td>\n",
              "      <td>1</td>\n",
              "      <td>8388608</td>\n",
              "      <td>0</td>\n",
              "      <td>0</td>\n",
              "    </tr>\n",
              "    <tr>\n",
              "      <th>799885</th>\n",
              "      <td>6281112832XX</td>\n",
              "      <td>Q_VB_Post_Movie1</td>\n",
              "      <td>26214400</td>\n",
              "      <td>6</td>\n",
              "      <td>21257728</td>\n",
              "      <td>4956672</td>\n",
              "      <td>0</td>\n",
              "    </tr>\n",
              "  </tbody>\n",
              "</table>\n",
              "</div>"
            ],
            "text/plain": [
              "                msisdn              quotaname  ...  consumption  Cluster\n",
              "163536    6X81180XX1XX  Q_VBDPI_Post_MyMovie1  ...       317312        0\n",
              "1037208    62X114423XX  Q_VBDPI_Post_MyMovie1  ...        26240        0\n",
              "172259   628121XX8X2XX  Q_VBDPI_Post_MyMovie1  ...        15232        0\n",
              "1039917    X28111X3XXX  Q_VBDPI_Post_MyMovie1  ...       299648        0\n",
              "1039781  X2811978128XX                    888  ...      9580621        0\n",
              "881194    62X111X9X9XX  Q_VBDPI_Post_MyMovie1  ...        11136        0\n",
              "75023    628521581X3XX       Q_VB_Post_Movie1  ...            0        0\n",
              "480540    6X8111X848XX       Q_VB_Post_Movie1  ...            0        0\n",
              "877466     628112727XX     Q_VB4G_Post_Movie1  ...            0        0\n",
              "799885    6281112832XX       Q_VB_Post_Movie1  ...      4956672        0\n",
              "\n",
              "[10 rows x 7 columns]"
            ]
          },
          "metadata": {
            "tags": []
          },
          "execution_count": 27
        }
      ]
    },
    {
      "cell_type": "code",
      "metadata": {
        "id": "15n5aMJNJp45",
        "colab": {
          "base_uri": "https://localhost:8080/",
          "height": 282
        },
        "outputId": "6f347c55-cadd-4a50-be37-ebc125225a23"
      },
      "source": [
        "df.describe()"
      ],
      "execution_count": null,
      "outputs": [
        {
          "output_type": "execute_result",
          "data": {
            "text/html": [
              "<div>\n",
              "<style scoped>\n",
              "    .dataframe tbody tr th:only-of-type {\n",
              "        vertical-align: middle;\n",
              "    }\n",
              "\n",
              "    .dataframe tbody tr th {\n",
              "        vertical-align: top;\n",
              "    }\n",
              "\n",
              "    .dataframe thead th {\n",
              "        text-align: right;\n",
              "    }\n",
              "</style>\n",
              "<table border=\"1\" class=\"dataframe\">\n",
              "  <thead>\n",
              "    <tr style=\"text-align: right;\">\n",
              "      <th></th>\n",
              "      <th>quotavalue</th>\n",
              "      <th>quotainterval</th>\n",
              "      <th>balance</th>\n",
              "      <th>consumption</th>\n",
              "      <th>Cluster</th>\n",
              "    </tr>\n",
              "  </thead>\n",
              "  <tbody>\n",
              "    <tr>\n",
              "      <th>count</th>\n",
              "      <td>3.023410e+05</td>\n",
              "      <td>302341.000000</td>\n",
              "      <td>3.023410e+05</td>\n",
              "      <td>3.023410e+05</td>\n",
              "      <td>302341.000000</td>\n",
              "    </tr>\n",
              "    <tr>\n",
              "      <th>mean</th>\n",
              "      <td>9.861835e+06</td>\n",
              "      <td>10.687611</td>\n",
              "      <td>8.200151e+06</td>\n",
              "      <td>1.617219e+06</td>\n",
              "      <td>0.109013</td>\n",
              "    </tr>\n",
              "    <tr>\n",
              "      <th>std</th>\n",
              "      <td>1.070176e+07</td>\n",
              "      <td>7.181536</td>\n",
              "      <td>1.042170e+07</td>\n",
              "      <td>3.675822e+06</td>\n",
              "      <td>0.311656</td>\n",
              "    </tr>\n",
              "    <tr>\n",
              "      <th>min</th>\n",
              "      <td>1.000000e+00</td>\n",
              "      <td>0.000000</td>\n",
              "      <td>0.000000e+00</td>\n",
              "      <td>0.000000e+00</td>\n",
              "      <td>0.000000</td>\n",
              "    </tr>\n",
              "    <tr>\n",
              "      <th>25%</th>\n",
              "      <td>3.145728e+06</td>\n",
              "      <td>6.000000</td>\n",
              "      <td>1.676416e+06</td>\n",
              "      <td>0.000000e+00</td>\n",
              "      <td>0.000000</td>\n",
              "    </tr>\n",
              "    <tr>\n",
              "      <th>50%</th>\n",
              "      <td>8.388608e+06</td>\n",
              "      <td>11.000000</td>\n",
              "      <td>4.242486e+06</td>\n",
              "      <td>4.838400e+04</td>\n",
              "      <td>0.000000</td>\n",
              "    </tr>\n",
              "    <tr>\n",
              "      <th>75%</th>\n",
              "      <td>1.258291e+07</td>\n",
              "      <td>20.000000</td>\n",
              "      <td>1.048576e+07</td>\n",
              "      <td>1.353216e+06</td>\n",
              "      <td>0.000000</td>\n",
              "    </tr>\n",
              "    <tr>\n",
              "      <th>max</th>\n",
              "      <td>1.677722e+08</td>\n",
              "      <td>90.000000</td>\n",
              "      <td>1.677702e+08</td>\n",
              "      <td>1.258294e+08</td>\n",
              "      <td>1.000000</td>\n",
              "    </tr>\n",
              "  </tbody>\n",
              "</table>\n",
              "</div>"
            ],
            "text/plain": [
              "         quotavalue  quotainterval       balance   consumption        Cluster\n",
              "count  3.023410e+05  302341.000000  3.023410e+05  3.023410e+05  302341.000000\n",
              "mean   9.861835e+06      10.687611  8.200151e+06  1.617219e+06       0.109013\n",
              "std    1.070176e+07       7.181536  1.042170e+07  3.675822e+06       0.311656\n",
              "min    1.000000e+00       0.000000  0.000000e+00  0.000000e+00       0.000000\n",
              "25%    3.145728e+06       6.000000  1.676416e+06  0.000000e+00       0.000000\n",
              "50%    8.388608e+06      11.000000  4.242486e+06  4.838400e+04       0.000000\n",
              "75%    1.258291e+07      20.000000  1.048576e+07  1.353216e+06       0.000000\n",
              "max    1.677722e+08      90.000000  1.677702e+08  1.258294e+08       1.000000"
            ]
          },
          "metadata": {
            "tags": []
          },
          "execution_count": 28
        }
      ]
    },
    {
      "cell_type": "code",
      "metadata": {
        "id": "1XvcM-w4s2WB"
      },
      "source": [
        "from sklearn.preprocessing import StandardScaler"
      ],
      "execution_count": null,
      "outputs": []
    },
    {
      "cell_type": "code",
      "metadata": {
        "id": "_UtN72XOtGhq"
      },
      "source": [
        "scaler = StandardScaler()"
      ],
      "execution_count": null,
      "outputs": []
    },
    {
      "cell_type": "code",
      "metadata": {
        "id": "tUqE8Y_Ttx_7"
      },
      "source": [
        "df.drop(['msisdn'], axis=1, inplace=True)\n",
        "df.drop(['quotaname'], axis=1, inplace=True)"
      ],
      "execution_count": null,
      "outputs": []
    },
    {
      "cell_type": "code",
      "metadata": {
        "id": "i7ZJSyW1tHio",
        "colab": {
          "base_uri": "https://localhost:8080/"
        },
        "outputId": "135ce922-4133-415f-cb46-9c87bfd971e4"
      },
      "source": [
        "scaler.fit(df.drop('Cluster', axis=1))"
      ],
      "execution_count": null,
      "outputs": [
        {
          "output_type": "execute_result",
          "data": {
            "text/plain": [
              "StandardScaler(copy=True, with_mean=True, with_std=True)"
            ]
          },
          "metadata": {
            "tags": []
          },
          "execution_count": 32
        }
      ]
    },
    {
      "cell_type": "code",
      "metadata": {
        "id": "lflzqQuptJ6Z"
      },
      "source": [
        "scaled_feat = scaler.transform(df.drop('Cluster', axis=1))"
      ],
      "execution_count": null,
      "outputs": []
    },
    {
      "cell_type": "code",
      "metadata": {
        "id": "7XN5fbQrtLsR",
        "colab": {
          "base_uri": "https://localhost:8080/",
          "height": 194
        },
        "outputId": "03c8fe64-374d-4b50-a38b-ba3db50e03da"
      },
      "source": [
        "df_feat = pd.DataFrame(scaled_feat, columns=df.columns[:-1])\n",
        "df_feat.head()"
      ],
      "execution_count": null,
      "outputs": [
        {
          "output_type": "execute_result",
          "data": {
            "text/html": [
              "<div>\n",
              "<style scoped>\n",
              "    .dataframe tbody tr th:only-of-type {\n",
              "        vertical-align: middle;\n",
              "    }\n",
              "\n",
              "    .dataframe tbody tr th {\n",
              "        vertical-align: top;\n",
              "    }\n",
              "\n",
              "    .dataframe thead th {\n",
              "        text-align: right;\n",
              "    }\n",
              "</style>\n",
              "<table border=\"1\" class=\"dataframe\">\n",
              "  <thead>\n",
              "    <tr style=\"text-align: right;\">\n",
              "      <th></th>\n",
              "      <th>quotavalue</th>\n",
              "      <th>quotainterval</th>\n",
              "      <th>balance</th>\n",
              "      <th>consumption</th>\n",
              "    </tr>\n",
              "  </thead>\n",
              "  <tbody>\n",
              "    <tr>\n",
              "      <th>0</th>\n",
              "      <td>1.528029</td>\n",
              "      <td>1.296715</td>\n",
              "      <td>1.689675</td>\n",
              "      <td>-0.329784</td>\n",
              "    </tr>\n",
              "    <tr>\n",
              "      <th>1</th>\n",
              "      <td>1.528029</td>\n",
              "      <td>1.296715</td>\n",
              "      <td>1.728180</td>\n",
              "      <td>-0.438952</td>\n",
              "    </tr>\n",
              "    <tr>\n",
              "      <th>2</th>\n",
              "      <td>0.058301</td>\n",
              "      <td>1.296715</td>\n",
              "      <td>0.219313</td>\n",
              "      <td>-0.439962</td>\n",
              "    </tr>\n",
              "    <tr>\n",
              "      <th>3</th>\n",
              "      <td>-0.137662</td>\n",
              "      <td>1.296715</td>\n",
              "      <td>0.018083</td>\n",
              "      <td>-0.439962</td>\n",
              "    </tr>\n",
              "    <tr>\n",
              "      <th>4</th>\n",
              "      <td>-0.725553</td>\n",
              "      <td>1.296715</td>\n",
              "      <td>-0.585606</td>\n",
              "      <td>-0.439962</td>\n",
              "    </tr>\n",
              "  </tbody>\n",
              "</table>\n",
              "</div>"
            ],
            "text/plain": [
              "   quotavalue  quotainterval   balance  consumption\n",
              "0    1.528029       1.296715  1.689675    -0.329784\n",
              "1    1.528029       1.296715  1.728180    -0.438952\n",
              "2    0.058301       1.296715  0.219313    -0.439962\n",
              "3   -0.137662       1.296715  0.018083    -0.439962\n",
              "4   -0.725553       1.296715 -0.585606    -0.439962"
            ]
          },
          "metadata": {
            "tags": []
          },
          "execution_count": 34
        }
      ]
    },
    {
      "cell_type": "markdown",
      "metadata": {
        "id": "IC0rQ4BcuKfK"
      },
      "source": [
        "Train Test Split"
      ]
    },
    {
      "cell_type": "code",
      "metadata": {
        "id": "882AXu_ruEK2"
      },
      "source": [
        "from sklearn.model_selection import train_test_split"
      ],
      "execution_count": null,
      "outputs": []
    },
    {
      "cell_type": "code",
      "metadata": {
        "id": "7Qx1bMGFuNMU"
      },
      "source": [
        "X = df_feat\n",
        "y = df['Cluster']\n",
        "X_train, X_test, y_train, y_test = train_test_split(X, y, test_size=0.3, random_state=101)"
      ],
      "execution_count": null,
      "outputs": []
    },
    {
      "cell_type": "markdown",
      "metadata": {
        "id": "pZRdpDMmuTVt"
      },
      "source": [
        "KNN"
      ]
    },
    {
      "cell_type": "code",
      "metadata": {
        "id": "uzRj4S_xuRmf"
      },
      "source": [
        "from sklearn.neighbors import KNeighborsClassifier"
      ],
      "execution_count": null,
      "outputs": []
    },
    {
      "cell_type": "code",
      "metadata": {
        "id": "xhautocAuUOy"
      },
      "source": [
        "knn = KNeighborsClassifier(n_neighbors=1)"
      ],
      "execution_count": null,
      "outputs": []
    },
    {
      "cell_type": "code",
      "metadata": {
        "id": "9Tpy1lLnuVbI",
        "colab": {
          "base_uri": "https://localhost:8080/"
        },
        "outputId": "8a4ba34d-5b07-497f-b560-04301cf0147b"
      },
      "source": [
        "knn.fit(X_train, y_train)"
      ],
      "execution_count": null,
      "outputs": [
        {
          "output_type": "execute_result",
          "data": {
            "text/plain": [
              "KNeighborsClassifier(algorithm='auto', leaf_size=30, metric='minkowski',\n",
              "                     metric_params=None, n_jobs=None, n_neighbors=1, p=2,\n",
              "                     weights='uniform')"
            ]
          },
          "metadata": {
            "tags": []
          },
          "execution_count": 39
        }
      ]
    },
    {
      "cell_type": "markdown",
      "metadata": {
        "id": "EHnsFGiTuXqh"
      },
      "source": [
        "Predict & Evaluatiom"
      ]
    },
    {
      "cell_type": "code",
      "metadata": {
        "id": "_bcB6340uWVm"
      },
      "source": [
        "pred = knn.predict(X_test)"
      ],
      "execution_count": null,
      "outputs": []
    },
    {
      "cell_type": "code",
      "metadata": {
        "id": "mWX0GNunIwrt",
        "colab": {
          "base_uri": "https://localhost:8080/"
        },
        "outputId": "29c9eb16-4d72-4460-e6a0-00bdb330db0c"
      },
      "source": [
        "print(pred)"
      ],
      "execution_count": null,
      "outputs": [
        {
          "output_type": "stream",
          "text": [
            "[0 1 0 ... 0 0 0]\n"
          ],
          "name": "stdout"
        }
      ]
    },
    {
      "cell_type": "code",
      "metadata": {
        "id": "3VwsyOzruaOS"
      },
      "source": [
        "from sklearn.metrics import classification_report, confusion_matrix"
      ],
      "execution_count": null,
      "outputs": []
    },
    {
      "cell_type": "code",
      "metadata": {
        "id": "tI2V-TpRucZk",
        "colab": {
          "base_uri": "https://localhost:8080/"
        },
        "outputId": "862e4b67-c7b7-488d-cba6-19d297078d19"
      },
      "source": [
        "print(confusion_matrix(y_test, pred))"
      ],
      "execution_count": null,
      "outputs": [
        {
          "output_type": "stream",
          "text": [
            "[[80704    17]\n",
            " [   10  9972]]\n"
          ],
          "name": "stdout"
        }
      ]
    },
    {
      "cell_type": "code",
      "metadata": {
        "id": "WpfhVcifudtd",
        "colab": {
          "base_uri": "https://localhost:8080/"
        },
        "outputId": "b2e15046-8790-431a-c6f6-e6e6c54c596a"
      },
      "source": [
        "print(classification_report(y_test, pred))"
      ],
      "execution_count": null,
      "outputs": [
        {
          "output_type": "stream",
          "text": [
            "              precision    recall  f1-score   support\n",
            "\n",
            "           0       1.00      1.00      1.00     80721\n",
            "           1       1.00      1.00      1.00      9982\n",
            "\n",
            "    accuracy                           1.00     90703\n",
            "   macro avg       1.00      1.00      1.00     90703\n",
            "weighted avg       1.00      1.00      1.00     90703\n",
            "\n"
          ],
          "name": "stdout"
        }
      ]
    },
    {
      "cell_type": "markdown",
      "metadata": {
        "id": "qFDK-1Iour1A"
      },
      "source": [
        "Another K Value"
      ]
    },
    {
      "cell_type": "code",
      "metadata": {
        "id": "-b-ACEcbuf28"
      },
      "source": [
        "error_rates = []\n",
        "\n",
        "for i in range(1, 40):\n",
        "    knn = KNeighborsClassifier(n_neighbors=i)\n",
        "    knn.fit(X_train, y_train)\n",
        "    preds = knn.predict(X_test)\n",
        "    error_rates.append(np.mean(preds != y_test))"
      ],
      "execution_count": null,
      "outputs": []
    },
    {
      "cell_type": "code",
      "metadata": {
        "id": "qQzNi2nCuuCW",
        "colab": {
          "base_uri": "https://localhost:8080/"
        },
        "outputId": "a1862d24-4eee-47a1-a850-602d7f088956"
      },
      "source": [
        "np.array(error_rates)"
      ],
      "execution_count": null,
      "outputs": [
        {
          "output_type": "execute_result",
          "data": {
            "text/plain": [
              "array([0.00029767, 0.00045202, 0.000882  , 0.0011907 , 0.00137812,\n",
              "       0.00144427, 0.00157657, 0.00170887, 0.0018522 , 0.00205065,\n",
              "       0.00227115, 0.00234832, 0.00250267, 0.0026019 , 0.00274522,\n",
              "       0.00271215, 0.0028224 , 0.00289957, 0.00298777, 0.00302085,\n",
              "       0.00310905, 0.00310905, 0.00319725, 0.00316417, 0.0032193 ,\n",
              "       0.00324135, 0.00337365, 0.00346185, 0.00356107, 0.00362722,\n",
              "       0.0037485 , 0.0037485 , 0.00385875, 0.00394695, 0.00404617,\n",
              "       0.0041013 , 0.0043218 , 0.0044541 , 0.0045864 ])"
            ]
          },
          "metadata": {
            "tags": []
          },
          "execution_count": 46
        }
      ]
    },
    {
      "cell_type": "code",
      "metadata": {
        "id": "Kc51yEfO1Dw8",
        "colab": {
          "base_uri": "https://localhost:8080/",
          "height": 428
        },
        "outputId": "62ef8fa2-0ddf-4639-8dda-789e62d62047"
      },
      "source": [
        "plt.figure(figsize=(10, 6))\n",
        "sns.lineplot(x=range(1, 40), y=error_rates, color='blue', linestyle='dashed', marker='o', markersize=10, markerfacecolor='red')\n",
        "plt.title('Error Rate vs K')\n",
        "plt.xlabel(\"K\")\n",
        "plt.ylabel(\"Error Rate\")"
      ],
      "execution_count": null,
      "outputs": [
        {
          "output_type": "execute_result",
          "data": {
            "text/plain": [
              "Text(0, 0.5, 'Error Rate')"
            ]
          },
          "metadata": {
            "tags": []
          },
          "execution_count": 47
        },
        {
          "output_type": "display_data",
          "data": {
            "image/png": "[encoded data removed]",
            "text/plain": [
              "<Figure size 720x432 with 1 Axes>"
            ]
          },
          "metadata": {
            "tags": [],
            "needs_background": "light"
          }
        }
      ]
    },
    {
      "cell_type": "markdown",
      "metadata": {
        "id": "hQ0htv0I1eCP"
      },
      "source": [
        "Retrain"
      ]
    },
    {
      "cell_type": "code",
      "metadata": {
        "id": "xlwb5z5q1dsA",
        "colab": {
          "base_uri": "https://localhost:8080/"
        },
        "outputId": "014114bf-298a-45ad-d7be-4da39ce32564"
      },
      "source": [
        "knn = KNeighborsClassifier(n_neighbors=30)\n",
        "knn.fit(X_train, y_train)\n",
        "pred = knn.predict(X_test)\n",
        "print(confusion_matrix(y_test, pred))\n",
        "print()\n",
        "print(classification_report(y_test, pred))"
      ],
      "execution_count": null,
      "outputs": [
        {
          "output_type": "stream",
          "text": [
            "[[80521   200]\n",
            " [  129  9853]]\n",
            "\n",
            "              precision    recall  f1-score   support\n",
            "\n",
            "           0       1.00      1.00      1.00     80721\n",
            "           1       0.98      0.99      0.98      9982\n",
            "\n",
            "    accuracy                           1.00     90703\n",
            "   macro avg       0.99      0.99      0.99     90703\n",
            "weighted avg       1.00      1.00      1.00     90703\n",
            "\n"
          ],
          "name": "stdout"
        }
      ]
    },
    {
      "cell_type": "code",
      "metadata": {
        "id": "SuaMLtZP1KFB",
        "colab": {
          "base_uri": "https://localhost:8080/"
        },
        "outputId": "4ff3c090-b466-4ec5-ae34-049dcdaa1279"
      },
      "source": [
        "knn = KNeighborsClassifier(n_neighbors=2)\n",
        "knn.fit(X_train, y_train)\n",
        "pred = knn.predict(X_test)\n",
        "print(confusion_matrix(y_test, pred))\n",
        "print()\n",
        "print(classification_report(y_test, pred))"
      ],
      "execution_count": null,
      "outputs": [
        {
          "output_type": "stream",
          "text": [
            "[[80704    17]\n",
            " [   24  9958]]\n",
            "\n",
            "              precision    recall  f1-score   support\n",
            "\n",
            "           0       1.00      1.00      1.00     80721\n",
            "           1       1.00      1.00      1.00      9982\n",
            "\n",
            "    accuracy                           1.00     90703\n",
            "   macro avg       1.00      1.00      1.00     90703\n",
            "weighted avg       1.00      1.00      1.00     90703\n",
            "\n"
          ],
          "name": "stdout"
        }
      ]
    },
    {
      "cell_type": "markdown",
      "metadata": {
        "id": "SgxwAiZt3WUB"
      },
      "source": [
        "Another Split test Train Ratio"
      ]
    },
    {
      "cell_type": "markdown",
      "metadata": {
        "id": "FVRTb0703oeF"
      },
      "source": [
        "Rasio 90:10"
      ]
    },
    {
      "cell_type": "code",
      "metadata": {
        "id": "kI6dJ5BP159Z"
      },
      "source": [
        "X1 = df_feat\n",
        "y1 = df['Cluster']\n",
        "X1_train, X1_test, y1_train, y1_test = train_test_split(X1, y1, test_size=0.1, random_state=101)"
      ],
      "execution_count": null,
      "outputs": []
    },
    {
      "cell_type": "code",
      "metadata": {
        "id": "kWRltPXl3_87"
      },
      "source": [
        "knn1 = KNeighborsClassifier(n_neighbors=1)"
      ],
      "execution_count": null,
      "outputs": []
    },
    {
      "cell_type": "code",
      "metadata": {
        "id": "BJXXPl_I3PQH",
        "colab": {
          "base_uri": "https://localhost:8080/"
        },
        "outputId": "c1e326de-59da-4df1-c58d-36ccdf28226b"
      },
      "source": [
        "knn1.fit(X1_train, y1_train)"
      ],
      "execution_count": null,
      "outputs": [
        {
          "output_type": "execute_result",
          "data": {
            "text/plain": [
              "KNeighborsClassifier(algorithm='auto', leaf_size=30, metric='minkowski',\n",
              "                     metric_params=None, n_jobs=None, n_neighbors=1, p=2,\n",
              "                     weights='uniform')"
            ]
          },
          "metadata": {
            "tags": []
          },
          "execution_count": 52
        }
      ]
    },
    {
      "cell_type": "code",
      "metadata": {
        "id": "iKrmy8eK3UY3"
      },
      "source": [
        "pred1 = knn1.predict(X1_test)"
      ],
      "execution_count": null,
      "outputs": []
    },
    {
      "cell_type": "code",
      "metadata": {
        "id": "TOd0ve323kr0",
        "colab": {
          "base_uri": "https://localhost:8080/"
        },
        "outputId": "a28ed1f6-056f-4367-df9b-e42319c91d87"
      },
      "source": [
        "print(confusion_matrix(y1_test, pred1))"
      ],
      "execution_count": null,
      "outputs": [
        {
          "output_type": "stream",
          "text": [
            "[[26885     3]\n",
            " [    1  3346]]\n"
          ],
          "name": "stdout"
        }
      ]
    },
    {
      "cell_type": "code",
      "metadata": {
        "id": "1JrDCUd63nUK",
        "colab": {
          "base_uri": "https://localhost:8080/"
        },
        "outputId": "b36de29f-9bbc-4f03-ef32-96e2f7e3e9f8"
      },
      "source": [
        "print(classification_report(y1_test, pred1))"
      ],
      "execution_count": null,
      "outputs": [
        {
          "output_type": "stream",
          "text": [
            "              precision    recall  f1-score   support\n",
            "\n",
            "           0       1.00      1.00      1.00     26888\n",
            "           1       1.00      1.00      1.00      3347\n",
            "\n",
            "    accuracy                           1.00     30235\n",
            "   macro avg       1.00      1.00      1.00     30235\n",
            "weighted avg       1.00      1.00      1.00     30235\n",
            "\n"
          ],
          "name": "stdout"
        }
      ]
    },
    {
      "cell_type": "code",
      "metadata": {
        "id": "VRrx0dB44z2q"
      },
      "source": [
        "error_rates = []\n",
        "\n",
        "for i in range(1, 20):\n",
        "    knn1 = KNeighborsClassifier(n_neighbors=i)\n",
        "    knn1.fit(X1_train, y1_train)\n",
        "    preds1 = knn1.predict(X1_test)\n",
        "    error_rates.append(np.mean(preds1 != y1_test))"
      ],
      "execution_count": null,
      "outputs": []
    },
    {
      "cell_type": "code",
      "metadata": {
        "id": "7mbCx22F6qFF",
        "colab": {
          "base_uri": "https://localhost:8080/"
        },
        "outputId": "c362427c-0d57-4d40-a26d-089e1b986f42"
      },
      "source": [
        "np.array(error_rates)"
      ],
      "execution_count": null,
      "outputs": [
        {
          "output_type": "execute_result",
          "data": {
            "text/plain": [
              "array([0.0001323 , 0.00019845, 0.00039689, 0.00042997, 0.00066149,\n",
              "       0.00072763, 0.000893  , 0.00112452, 0.00119067, 0.00119067,\n",
              "       0.00132297, 0.00142219, 0.00165371, 0.00171986, 0.00191831,\n",
              "       0.00201753, 0.00214983, 0.00214983, 0.00234827])"
            ]
          },
          "metadata": {
            "tags": []
          },
          "execution_count": 57
        }
      ]
    },
    {
      "cell_type": "code",
      "metadata": {
        "id": "Sa4_Nacc6reM",
        "colab": {
          "base_uri": "https://localhost:8080/",
          "height": 428
        },
        "outputId": "78cb0766-b733-47c7-e58b-64fc299983b9"
      },
      "source": [
        "plt.figure(figsize=(10, 6))\n",
        "sns.lineplot(x=range(1, 20), y=error_rates, color='blue', linestyle='dashed', marker='o', markersize=10, markerfacecolor='red')\n",
        "plt.title('Error Rate vs K 90:10')\n",
        "plt.xlabel(\"K\")\n",
        "plt.ylabel(\"Error Rate\")"
      ],
      "execution_count": null,
      "outputs": [
        {
          "output_type": "execute_result",
          "data": {
            "text/plain": [
              "Text(0, 0.5, 'Error Rate')"
            ]
          },
          "metadata": {
            "tags": []
          },
          "execution_count": 58
        },
        {
          "output_type": "display_data",
          "data": {
            "image/png": "[encoded data removed]",
            "text/plain": [
              "<Figure size 720x432 with 1 Axes>"
            ]
          },
          "metadata": {
            "tags": [],
            "needs_background": "light"
          }
        }
      ]
    },
    {
      "cell_type": "markdown",
      "metadata": {
        "id": "ovazY9pn4PiJ"
      },
      "source": [
        "Rasio 80:20"
      ]
    },
    {
      "cell_type": "code",
      "metadata": {
        "id": "7w-_uMTV3yFV"
      },
      "source": [
        "X2 = df_feat\n",
        "y2 = df['Cluster']\n",
        "X2_train, X2_test, y2_train, y2_test = train_test_split(X2, y2, test_size=0.2, random_state=101)"
      ],
      "execution_count": null,
      "outputs": []
    },
    {
      "cell_type": "code",
      "metadata": {
        "id": "M4r5sbTC7OyY"
      },
      "source": [
        "knn2 = KNeighborsClassifier(n_neighbors=2)"
      ],
      "execution_count": null,
      "outputs": []
    },
    {
      "cell_type": "code",
      "metadata": {
        "id": "mGHKiJpH4ZC2",
        "colab": {
          "base_uri": "https://localhost:8080/"
        },
        "outputId": "4bb30bfa-acbf-4a20-9f75-3b83b1a3d569"
      },
      "source": [
        "knn2.fit(X2_train, y2_train)"
      ],
      "execution_count": null,
      "outputs": [
        {
          "output_type": "execute_result",
          "data": {
            "text/plain": [
              "KNeighborsClassifier(algorithm='auto', leaf_size=30, metric='minkowski',\n",
              "                     metric_params=None, n_jobs=None, n_neighbors=2, p=2,\n",
              "                     weights='uniform')"
            ]
          },
          "metadata": {
            "tags": []
          },
          "execution_count": 61
        }
      ]
    },
    {
      "cell_type": "code",
      "metadata": {
        "id": "V9jflOPL4dIG"
      },
      "source": [
        "pred2 = knn2.predict(X2_test)"
      ],
      "execution_count": null,
      "outputs": []
    },
    {
      "cell_type": "code",
      "metadata": {
        "id": "8hsLVQ4Z4fNu",
        "colab": {
          "base_uri": "https://localhost:8080/"
        },
        "outputId": "575b7629-7f89-47be-b37e-8fbfe7a5c916"
      },
      "source": [
        "print(confusion_matrix(y2_test, pred2))"
      ],
      "execution_count": null,
      "outputs": [
        {
          "output_type": "stream",
          "text": [
            "[[53789    11]\n",
            " [   10  6659]]\n"
          ],
          "name": "stdout"
        }
      ]
    },
    {
      "cell_type": "code",
      "metadata": {
        "id": "O2wyCrA64hwb",
        "colab": {
          "base_uri": "https://localhost:8080/"
        },
        "outputId": "2870f1a6-555d-4b58-9826-63474f5565dd"
      },
      "source": [
        "print(classification_report(y2_test, pred2))"
      ],
      "execution_count": null,
      "outputs": [
        {
          "output_type": "stream",
          "text": [
            "              precision    recall  f1-score   support\n",
            "\n",
            "           0       1.00      1.00      1.00     53800\n",
            "           1       1.00      1.00      1.00      6669\n",
            "\n",
            "    accuracy                           1.00     60469\n",
            "   macro avg       1.00      1.00      1.00     60469\n",
            "weighted avg       1.00      1.00      1.00     60469\n",
            "\n"
          ],
          "name": "stdout"
        }
      ]
    },
    {
      "cell_type": "code",
      "metadata": {
        "id": "nEOWlqkZ4kqb"
      },
      "source": [
        "error_rates = []\n",
        "\n",
        "for i in range(1, 20):\n",
        "    knn2 = KNeighborsClassifier(n_neighbors=i)\n",
        "    knn2.fit(X2_train, y2_train)\n",
        "    preds2 = knn2.predict(X2_test)\n",
        "    error_rates.append(np.mean(preds2 != y2_test))"
      ],
      "execution_count": null,
      "outputs": []
    },
    {
      "cell_type": "code",
      "metadata": {
        "id": "U_EEssUf7gGR",
        "colab": {
          "base_uri": "https://localhost:8080/"
        },
        "outputId": "c745be4e-8eee-4e1a-fe8e-81486b56072e"
      },
      "source": [
        "np.array(error_rates)"
      ],
      "execution_count": null,
      "outputs": [
        {
          "output_type": "execute_result",
          "data": {
            "text/plain": [
              "array([0.0002646 , 0.00034729, 0.00054573, 0.00067803, 0.00092609,\n",
              "       0.00114108, 0.0012403 , 0.0015049 , 0.00155452, 0.00167028,\n",
              "       0.00183565, 0.00195141, 0.00218294, 0.0022987 , 0.00244754,\n",
              "       0.00249715, 0.00261291, 0.00264598, 0.00279482])"
            ]
          },
          "metadata": {
            "tags": []
          },
          "execution_count": 66
        }
      ]
    },
    {
      "cell_type": "code",
      "metadata": {
        "id": "L0XU0KN27jK2",
        "colab": {
          "base_uri": "https://localhost:8080/",
          "height": 428
        },
        "outputId": "84adf196-8f52-4ff7-b762-7bd1c93873cd"
      },
      "source": [
        "plt.figure(figsize=(10, 6))\n",
        "sns.lineplot(x=range(1, 20), y=error_rates, color='blue', linestyle='dashed', marker='o', markersize=10, markerfacecolor='red')\n",
        "plt.title('Error Rate vs K 80:20')\n",
        "plt.xlabel(\"K\")\n",
        "plt.ylabel(\"Error Rate\")"
      ],
      "execution_count": null,
      "outputs": [
        {
          "output_type": "execute_result",
          "data": {
            "text/plain": [
              "Text(0, 0.5, 'Error Rate')"
            ]
          },
          "metadata": {
            "tags": []
          },
          "execution_count": 67
        },
        {
          "output_type": "display_data",
          "data": {
            "image/png": "[encoded data removed]",
            "text/plain": [
              "<Figure size 720x432 with 1 Axes>"
            ]
          },
          "metadata": {
            "tags": [],
            "needs_background": "light"
          }
        }
      ]
    },
    {
      "cell_type": "code",
      "metadata": {
        "id": "brN8qrI_7k-u",
        "colab": {
          "base_uri": "https://localhost:8080/"
        },
        "outputId": "7dbf41a7-f978-43c1-b70f-4b3d13064ae0"
      },
      "source": [
        "# Print out confusion matrix\n",
        "cmat = confusion_matrix(y2_test, pred2)\n",
        "#print(cmat)\n",
        "print('TP - True Negative {}'.format(cmat[0,0]))\n",
        "print('FP - False Positive {}'.format(cmat[0,1]))\n",
        "print('FN - False Negative {}'.format(cmat[1,0]))\n",
        "print('TP - True Positive {}'.format(cmat[1,1]))\n",
        "print('Accuracy Rate: {}'.format(np.divide(np.sum([cmat[0,0],cmat[1,1]]),np.sum(cmat))))\n",
        "print('Misclassification Rate: {}'.format(np.divide(np.sum([cmat[0,1],cmat[1,0]]),np.sum(cmat))))"
      ],
      "execution_count": null,
      "outputs": [
        {
          "output_type": "stream",
          "text": [
            "TP - True Negative 53789\n",
            "FP - False Positive 11\n",
            "FN - False Negative 10\n",
            "TP - True Positive 6659\n",
            "Accuracy Rate: 0.9996527146140998\n",
            "Misclassification Rate: 0.00034728538590021333\n"
          ],
          "name": "stdout"
        }
      ]
    }
  ]
}